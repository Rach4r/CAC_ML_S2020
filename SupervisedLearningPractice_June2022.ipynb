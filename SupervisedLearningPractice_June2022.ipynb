{
 "cells": [
  {
   "cell_type": "markdown",
   "metadata": {},
   "source": [
    "# Supervised Learning Exercise: Predict survival on the Titanic\n",
    "\n",
    "In this exercise, you will be given the Titanic dataset (https://www.kaggle.com/competitions/titanic/data), which contains data for 891 of the real Titanic passengers and the goal is to practice the machine learning application development process to predict which passengers survived the Titanic shipwreck and determine the factors that contributed to their survival. The dataset consists of the following ten features:\n",
    "\n",
    "- PassengerId\n",
    "- Survived: Survival (0 = No, 1 = Yes) - This is the target feature.\n",
    "- Pclass: Ticket class (1 = 1st, 2 = 2nd, 3 = 3rd)\n",
    "- Name\n",
    "- Sex\n",
    "- Age: Age in years\n",
    "- SibSp: # of siblings / spouses aboard the Titanic\n",
    "- Parch: # of parents / children aboard the Titanic\n",
    "- Ticket: Ticket number\n",
    "- Fare: Passenger fare\n",
    "- Cabin: Cabin number\n",
    "- Embarked: Port of Embarkation (C = Cherbourg, Q = Queenstown, S = Southampton)\n",
    "\n",
    "\n",
    "## Tasks\n",
    "\n",
    "- Run data exploration, visualization, and preparation\n",
    "- Train models\n",
    "- Evaluate models"
   ]
  },
  {
   "cell_type": "markdown",
   "metadata": {},
   "source": [
    "### 1. Environment Preparation"
   ]
  },
  {
   "cell_type": "code",
   "execution_count": 1,
   "metadata": {},
   "outputs": [],
   "source": [
    "# Install packages\n",
    "\n",
    "#!pip install pandas numpy matplotlib seaborn scikit-learn yellowbrick"
   ]
  },
  {
   "cell_type": "code",
   "execution_count": 36,
   "metadata": {},
   "outputs": [],
   "source": [
    "# Import packages\n",
    "\n",
    "import pandas as pd # working with data\n",
    "import numpy as np # working with arrays\n",
    "import matplotlib.pyplot as plt # data visualization\n",
    "import seaborn as sb # data visualization\n",
    "\n",
    "from sklearn.model_selection import train_test_split, KFold, cross_val_score # data spliting and k-cross validation\n",
    "\n",
    "from sklearn.linear_model import LogisticRegression\n",
    "from sklearn.neighbors import KNeighborsClassifier\n",
    "from sklearn.naive_bayes import GaussianNB\n",
    "from sklearn.tree import DecisionTreeClassifier\n",
    "from sklearn.ensemble import RandomForestClassifier\n",
    "from sklearn.metrics import accuracy_score, classification_report, confusion_matrix\n",
    "\n",
    "from yellowbrick.style import set_palette\n",
    "from yellowbrick.classifier import ClassificationReport, ROCAUC, ConfusionMatrix, ClassPredictionError"
   ]
  },
  {
   "cell_type": "markdown",
   "metadata": {},
   "source": [
    "### 2. Data Exploration "
   ]
  },
  {
   "cell_type": "code",
   "execution_count": 3,
   "metadata": {},
   "outputs": [],
   "source": [
    "# Load the data from the CSV to a Panda's Dataframe\n",
    "titanic_df = pd.read_csv(filepath_or_buffer='titanic.csv')"
   ]
  },
  {
   "cell_type": "markdown",
   "metadata": {},
   "source": [
    "### 3. Data Visualization"
   ]
  },
  {
   "cell_type": "markdown",
   "metadata": {},
   "source": [
    "### 4. Data Preparation"
   ]
  },
  {
   "cell_type": "markdown",
   "metadata": {},
   "source": [
    "### 5. Training Set & Test Set"
   ]
  },
  {
   "cell_type": "markdown",
   "metadata": {},
   "source": [
    "### 6. Building Models"
   ]
  }
 ],
 "metadata": {
  "kernelspec": {
   "display_name": "Python 3",
   "language": "python",
   "name": "python3"
  },
  "language_info": {
   "codemirror_mode": {
    "name": "ipython",
    "version": 3
   },
   "file_extension": ".py",
   "mimetype": "text/x-python",
   "name": "python",
   "nbconvert_exporter": "python",
   "pygments_lexer": "ipython3",
   "version": "3.7.4"
  }
 },
 "nbformat": 4,
 "nbformat_minor": 4
}
